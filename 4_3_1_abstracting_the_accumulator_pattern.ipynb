{
 "cells": [
  {
   "cell_type": "markdown",
   "metadata": {
    "slideshow": {
     "slide_type": "slide"
    }
   },
   "source": [
    "# Abstracting the Accumulator Pattern"
   ]
  },
  {
   "cell_type": "markdown",
   "metadata": {
    "slideshow": {
     "slide_type": "slide"
    }
   },
   "source": [
    "## Review - The accumulator pattern\n",
    "\n",
    "* For turning a sequence into a value\n",
    "    * e.g. Computing statistics\n",
    "* Uses\n",
    "    * A `for` loop\n",
    "    * An accumulation variable\n",
    "    * Update step"
   ]
  },
  {
   "cell_type": "markdown",
   "metadata": {
    "slideshow": {
     "slide_type": "slide"
    }
   },
   "source": [
    "## Example - Random data"
   ]
  },
  {
   "cell_type": "code",
   "execution_count": 46,
   "metadata": {
    "slideshow": {
     "slide_type": "fragment"
    }
   },
   "outputs": [],
   "source": [
    "from random import gammavariate\n",
    "N = 100\n",
    "items = trials = [gammavariate(2,3) for i in range(N)]"
   ]
  },
  {
   "cell_type": "markdown",
   "metadata": {
    "slideshow": {
     "slide_type": "slide"
    }
   },
   "source": [
    "## Count the data"
   ]
  },
  {
   "cell_type": "code",
   "execution_count": 47,
   "metadata": {
    "slideshow": {
     "slide_type": "slide"
    }
   },
   "outputs": [
    {
     "data": {
      "text/plain": [
       "100"
      ]
     },
     "execution_count": 47,
     "metadata": {},
     "output_type": "execute_result"
    }
   ],
   "source": [
    "cnt = 0\n",
    "for trial in trials:\n",
    "    cnt = cnt + 1\n",
    "cnt"
   ]
  },
  {
   "cell_type": "markdown",
   "metadata": {
    "slideshow": {
     "slide_type": "slide"
    }
   },
   "source": [
    "## Total the data"
   ]
  },
  {
   "cell_type": "code",
   "execution_count": 48,
   "metadata": {
    "slideshow": {
     "slide_type": "slide"
    }
   },
   "outputs": [
    {
     "data": {
      "text/plain": [
       "572.5473975026382"
      ]
     },
     "execution_count": 48,
     "metadata": {},
     "output_type": "execute_result"
    }
   ],
   "source": [
    "tot = 0\n",
    "for trial in trials:\n",
    "    tot = tot + trial\n",
    "tot"
   ]
  },
  {
   "cell_type": "markdown",
   "metadata": {
    "slideshow": {
     "slide_type": "slide"
    }
   },
   "source": [
    "## Product of the data"
   ]
  },
  {
   "cell_type": "code",
   "execution_count": 50,
   "metadata": {
    "slideshow": {
     "slide_type": "slide"
    }
   },
   "outputs": [
    {
     "data": {
      "text/plain": [
       "2.3136901405626446e+64"
      ]
     },
     "execution_count": 50,
     "metadata": {},
     "output_type": "execute_result"
    }
   ],
   "source": [
    "prod = 1\n",
    "for trial in trials:\n",
    "    prod = prod * trial\n",
    "prod"
   ]
  },
  {
   "cell_type": "markdown",
   "metadata": {},
   "source": [
    "## Accumulating non-vowels "
   ]
  },
  {
   "cell_type": "code",
   "execution_count": 31,
   "metadata": {},
   "outputs": [
    {
     "data": {
      "text/plain": [
       "'Msssspp'"
      ]
     },
     "execution_count": 31,
     "metadata": {},
     "output_type": "execute_result"
    }
   ],
   "source": [
    "items = w = 'Mississippi'\n",
    "vowels = 'aeiou'\n",
    "acc = ''\n",
    "for ch in w:\n",
    "    acc = acc + ch if ch.lower() not in vowels else acc\n",
    "acc\n"
   ]
  },
  {
   "cell_type": "markdown",
   "metadata": {},
   "source": [
    "## Accumulating sets"
   ]
  },
  {
   "cell_type": "code",
   "execution_count": 33,
   "metadata": {},
   "outputs": [
    {
     "data": {
      "text/plain": [
       "[13435, 14899, 11566, 10528, 6146]"
      ]
     },
     "execution_count": 33,
     "metadata": {},
     "output_type": "execute_result"
    }
   ],
   "source": [
    "items = vowel_sets = [set(w for w in words if v in w.lower()) \n",
    "              for v in vowels]\n",
    "[len(s) for s in vowel_sets]"
   ]
  },
  {
   "cell_type": "code",
   "execution_count": 23,
   "metadata": {},
   "outputs": [
    {
     "data": {
      "text/plain": [
       "{'Beaujolais',\n",
       " 'Carboniferous',\n",
       " 'Dalhousie',\n",
       " 'Fontainebleau',\n",
       " 'Houdaille',\n",
       " 'Indoeuropean',\n",
       " 'Sequoia',\n",
       " 'adventitious',\n",
       " 'aeronautic',\n",
       " 'ambidextrous',\n",
       " 'argillaceous',\n",
       " 'argumentation',\n",
       " 'auctioneer',\n",
       " 'audiotape',\n",
       " 'augmentation',\n",
       " 'aureomycin',\n",
       " 'authoritative',\n",
       " 'autocollimate',\n",
       " 'automobile',\n",
       " 'automotive',\n",
       " 'autosuggestible',\n",
       " 'bimolecular',\n",
       " 'boardinghouse',\n",
       " 'bouillabaisse',\n",
       " 'businesswoman',\n",
       " 'cauliflower',\n",
       " 'coeducation',\n",
       " 'colatitude',\n",
       " 'communicable',\n",
       " 'communicate',\n",
       " 'consanguine',\n",
       " 'consanguineous',\n",
       " 'consequential',\n",
       " 'consultative',\n",
       " 'counterrevolutionary',\n",
       " 'countervail',\n",
       " 'denudation',\n",
       " 'deputation',\n",
       " 'dialogue',\n",
       " 'diatomaceous',\n",
       " 'documentation',\n",
       " 'efficacious',\n",
       " 'equatorial',\n",
       " 'equinoctial',\n",
       " 'equitation',\n",
       " 'equivocal',\n",
       " 'equivocate',\n",
       " 'eukaryotic',\n",
       " 'euphorbia',\n",
       " 'euphoria',\n",
       " 'eutrophication',\n",
       " 'evolutionary',\n",
       " 'exclusionary',\n",
       " 'excommunicate',\n",
       " 'exhaustion',\n",
       " 'exhumation',\n",
       " 'exultation',\n",
       " 'facetious',\n",
       " 'filamentous',\n",
       " 'fluoridate',\n",
       " 'fountainhead',\n",
       " 'gelatinous',\n",
       " 'grandiloquent',\n",
       " 'gregarious',\n",
       " 'gubernatorial',\n",
       " 'hallucinogen',\n",
       " 'hallucinogenic',\n",
       " 'hexafluoride',\n",
       " 'importunate',\n",
       " 'incommensurable',\n",
       " 'incommensurate',\n",
       " 'incommunicable',\n",
       " 'incommutable',\n",
       " 'incomputable',\n",
       " 'inconsequential',\n",
       " 'inoculate',\n",
       " 'instantaneous',\n",
       " 'instrumentation',\n",
       " 'insubordinate',\n",
       " 'insupportable',\n",
       " 'insurmountable',\n",
       " 'liquefaction',\n",
       " 'loudspeaking',\n",
       " 'malnourished',\n",
       " 'mendacious',\n",
       " 'mensuration',\n",
       " 'metalliferous',\n",
       " 'miscellaneous',\n",
       " 'mountaineer',\n",
       " 'mountainside',\n",
       " 'nefarious',\n",
       " 'neuroanatomic',\n",
       " 'neuropsychiatric',\n",
       " 'oneupmanship',\n",
       " 'ostentatious',\n",
       " 'pandemonium',\n",
       " 'permutation',\n",
       " 'perspicacious',\n",
       " 'persuasion',\n",
       " 'pertinacious',\n",
       " 'pneumonia',\n",
       " 'portraiture',\n",
       " 'praseodymium',\n",
       " 'precarious',\n",
       " 'predacious',\n",
       " 'psychotherapeutic',\n",
       " 'putrefaction',\n",
       " 'questionnaire',\n",
       " 'refutation',\n",
       " 'reputation',\n",
       " 'revolutionary',\n",
       " 'sacrilegious',\n",
       " 'sanguineous',\n",
       " 'sequestration',\n",
       " 'simultaneous',\n",
       " 'sulfonamide',\n",
       " 'tambourine',\n",
       " 'telecommunicate',\n",
       " 'tenacious',\n",
       " 'tetrafluoride',\n",
       " 'unidimensional',\n",
       " 'unidirectional',\n",
       " 'veracious',\n",
       " 'vexatious'}"
      ]
     },
     "execution_count": 23,
     "metadata": {},
     "output_type": "execute_result"
    }
   ],
   "source": [
    "acc = set(words)\n",
    "for vowel_set in vowel_sets:\n",
    "    acc = acc.intersection(vowel_set)\n",
    "acc"
   ]
  },
  {
   "cell_type": "markdown",
   "metadata": {
    "slideshow": {
     "slide_type": "slide"
    }
   },
   "source": [
    "## Generalizing the names\n",
    "\n",
    "To make the pattern clear, I have replaced all variables with a generic name."
   ]
  },
  {
   "cell_type": "code",
   "execution_count": null,
   "metadata": {
    "slideshow": {
     "slide_type": "fragment"
    }
   },
   "outputs": [],
   "source": [
    "items = [gammavariate(2,3) for i in range(N)]"
   ]
  },
  {
   "cell_type": "code",
   "execution_count": 40,
   "metadata": {
    "slideshow": {
     "slide_type": "fragment"
    }
   },
   "outputs": [],
   "source": [
    "acc = 0\n",
    "for item in items:\n",
    "    acc = acc + 1"
   ]
  },
  {
   "cell_type": "code",
   "execution_count": 41,
   "metadata": {
    "slideshow": {
     "slide_type": "fragment"
    }
   },
   "outputs": [],
   "source": [
    "acc = 0\n",
    "for item in items:\n",
    "    acc = acc + item"
   ]
  },
  {
   "cell_type": "code",
   "execution_count": 52,
   "metadata": {
    "slideshow": {
     "slide_type": "slide"
    }
   },
   "outputs": [],
   "source": [
    "acc = 1\n",
    "for item in items:\n",
    "    acc = acc * item"
   ]
  },
  {
   "cell_type": "code",
   "execution_count": null,
   "metadata": {},
   "outputs": [],
   "source": [
    "items = 'Mississippi'"
   ]
  },
  {
   "cell_type": "code",
   "execution_count": 42,
   "metadata": {},
   "outputs": [],
   "source": [
    "acc = ''\n",
    "for item in items:\n",
    "    acc = acc + item if item.lower() not in vowels else acc"
   ]
  },
  {
   "cell_type": "code",
   "execution_count": 44,
   "metadata": {},
   "outputs": [],
   "source": [
    "items = vowel_sets = [set(w for w in words if v in w.lower()) for v in vowels]"
   ]
  },
  {
   "cell_type": "code",
   "execution_count": 45,
   "metadata": {},
   "outputs": [],
   "source": [
    "acc = set(words)\n",
    "for item in items:\n",
    "    acc = acc.intersection(item)"
   ]
  },
  {
   "cell_type": "markdown",
   "metadata": {
    "slideshow": {
     "slide_type": "slide"
    }
   },
   "source": [
    "## Generalizing the names\n",
    "\n",
    "To make the pattern clear, I have replaced all variables with a generic name."
   ]
  },
  {
   "cell_type": "code",
   "execution_count": null,
   "metadata": {
    "slideshow": {
     "slide_type": "fragment"
    }
   },
   "outputs": [],
   "source": [
    "trials = [gammavariate(2,3) for i in range(N)]"
   ]
  },
  {
   "cell_type": "code",
   "execution_count": 75,
   "metadata": {
    "slideshow": {
     "slide_type": "fragment"
    }
   },
   "outputs": [
    {
     "data": {
      "text/plain": [
       "100"
      ]
     },
     "execution_count": 75,
     "metadata": {},
     "output_type": "execute_result"
    }
   ],
   "source": [
    "acc = 0\n",
    "for item in items:\n",
    "    acc = acc + 1\n",
    "acc"
   ]
  },
  {
   "cell_type": "code",
   "execution_count": 75,
   "metadata": {
    "slideshow": {
     "slide_type": "fragment"
    }
   },
   "outputs": [
    {
     "data": {
      "text/plain": [
       "100"
      ]
     },
     "execution_count": 75,
     "metadata": {},
     "output_type": "execute_result"
    }
   ],
   "source": [
    "acc = \n",
    "for item in items:\n",
    "    acc = \n",
    "acc"
   ]
  },
  {
   "cell_type": "code",
   "execution_count": 76,
   "metadata": {
    "slideshow": {
     "slide_type": "fragment"
    }
   },
   "outputs": [],
   "source": [
    "items = trials\n",
    "init = 0\n",
    "func = lambda acc, item: acc + 1"
   ]
  },
  {
   "cell_type": "code",
   "execution_count": 76,
   "metadata": {
    "slideshow": {
     "slide_type": "fragment"
    }
   },
   "outputs": [],
   "source": [
    "items = trials\n",
    "init = \n",
    "func = lambda acc, item: "
   ]
  },
  {
   "cell_type": "code",
   "execution_count": 77,
   "metadata": {
    "slideshow": {
     "slide_type": "fragment"
    }
   },
   "outputs": [
    {
     "data": {
      "text/plain": [
       "100"
      ]
     },
     "execution_count": 77,
     "metadata": {},
     "output_type": "execute_result"
    }
   ],
   "source": [
    "acc = init\n",
    "for item in items:\n",
    "    acc = func(acc, item)\n",
    "acc"
   ]
  },
  {
   "cell_type": "code",
   "execution_count": 78,
   "metadata": {
    "slideshow": {
     "slide_type": "fragment"
    }
   },
   "outputs": [
    {
     "data": {
      "text/plain": [
       "572.5473975026382"
      ]
     },
     "execution_count": 78,
     "metadata": {},
     "output_type": "execute_result"
    }
   ],
   "source": [
    "acc = 0\n",
    "for item in items:\n",
    "    acc = acc + item\n",
    "acc"
   ]
  },
  {
   "cell_type": "code",
   "execution_count": 79,
   "metadata": {
    "slideshow": {
     "slide_type": "fragment"
    }
   },
   "outputs": [],
   "source": [
    "items = trials\n",
    "init = 0\n",
    "func = lambda acc, item: acc + item"
   ]
  },
  {
   "cell_type": "code",
   "execution_count": 80,
   "metadata": {
    "slideshow": {
     "slide_type": "fragment"
    }
   },
   "outputs": [
    {
     "data": {
      "text/plain": [
       "572.5473975026382"
      ]
     },
     "execution_count": 80,
     "metadata": {},
     "output_type": "execute_result"
    }
   ],
   "source": [
    "acc = init\n",
    "for item in items:\n",
    "    acc = func(acc, item)\n",
    "acc"
   ]
  },
  {
   "cell_type": "code",
   "execution_count": 83,
   "metadata": {
    "slideshow": {
     "slide_type": "slide"
    }
   },
   "outputs": [
    {
     "data": {
      "text/plain": [
       "2.3136901405626446e+64"
      ]
     },
     "execution_count": 83,
     "metadata": {},
     "output_type": "execute_result"
    }
   ],
   "source": [
    "acc = 1\n",
    "for item in items:\n",
    "    acc = acc * item\n",
    "acc"
   ]
  },
  {
   "cell_type": "code",
   "execution_count": 84,
   "metadata": {
    "slideshow": {
     "slide_type": "fragment"
    }
   },
   "outputs": [],
   "source": [
    "items = trials\n",
    "init = 1\n",
    "func = lambda acc, item: acc*item"
   ]
  },
  {
   "cell_type": "code",
   "execution_count": 85,
   "metadata": {
    "slideshow": {
     "slide_type": "fragment"
    }
   },
   "outputs": [],
   "source": [
    "acc = init\n",
    "for item in items:\n",
    "    acc = func(acc, item)"
   ]
  },
  {
   "cell_type": "code",
   "execution_count": 86,
   "metadata": {},
   "outputs": [
    {
     "data": {
      "text/plain": [
       "'Msssspp'"
      ]
     },
     "execution_count": 86,
     "metadata": {},
     "output_type": "execute_result"
    }
   ],
   "source": [
    "items = w\n",
    "acc = ''\n",
    "for item in items:\n",
    "    acc = acc + item if item.lower() not in vowels else acc\n",
    "acc"
   ]
  },
  {
   "cell_type": "code",
   "execution_count": 88,
   "metadata": {
    "slideshow": {
     "slide_type": "fragment"
    }
   },
   "outputs": [],
   "source": [
    "items = w\n",
    "init = ''\n",
    "func = lambda acc, item: acc + item if item.lower() not in vowels else acc"
   ]
  },
  {
   "cell_type": "code",
   "execution_count": 89,
   "metadata": {
    "slideshow": {
     "slide_type": "fragment"
    }
   },
   "outputs": [
    {
     "data": {
      "text/plain": [
       "'Msssspp'"
      ]
     },
     "execution_count": 89,
     "metadata": {},
     "output_type": "execute_result"
    }
   ],
   "source": [
    "acc = init\n",
    "for item in items:\n",
    "    acc = func(acc, item)\n",
    "acc"
   ]
  },
  {
   "cell_type": "code",
   "execution_count": 94,
   "metadata": {},
   "outputs": [
    {
     "data": {
      "text/plain": [
       "124"
      ]
     },
     "execution_count": 94,
     "metadata": {},
     "output_type": "execute_result"
    }
   ],
   "source": [
    "items = vowel_sets \n",
    "acc = set(words)\n",
    "for item in items:\n",
    "    acc = acc.intersection(item)\n",
    "len(acc)"
   ]
  },
  {
   "cell_type": "code",
   "execution_count": 95,
   "metadata": {
    "slideshow": {
     "slide_type": "fragment"
    }
   },
   "outputs": [],
   "source": [
    "items = vowel_sets\n",
    "init = set(words)\n",
    "func = lambda acc, item: acc.intersection(item)"
   ]
  },
  {
   "cell_type": "code",
   "execution_count": 96,
   "metadata": {
    "slideshow": {
     "slide_type": "fragment"
    }
   },
   "outputs": [
    {
     "data": {
      "text/plain": [
       "124"
      ]
     },
     "execution_count": 96,
     "metadata": {},
     "output_type": "execute_result"
    }
   ],
   "source": [
    "acc = init\n",
    "for item in items:\n",
    "    acc = func(acc, item)\n",
    "len(acc)"
   ]
  },
  {
   "cell_type": "markdown",
   "metadata": {
    "slideshow": {
     "slide_type": "slide"
    }
   },
   "source": [
    "## `reduce`\n",
    "\n",
    "Let's package the accumulator pattern in a function called `reduce`"
   ]
  },
  {
   "cell_type": "code",
   "execution_count": 97,
   "metadata": {
    "slideshow": {
     "slide_type": "fragment"
    }
   },
   "outputs": [],
   "source": [
    "def reduce(func, items, init):\n",
    "    acc = init\n",
    "    for item in items:\n",
    "        acc = func(acc, item)\n",
    "    return acc"
   ]
  },
  {
   "cell_type": "code",
   "execution_count": 98,
   "metadata": {},
   "outputs": [
    {
     "data": {
      "text/plain": [
       "100"
      ]
     },
     "execution_count": 98,
     "metadata": {},
     "output_type": "execute_result"
    }
   ],
   "source": [
    "reduce(lambda a, i: a + 1, trials, 0)"
   ]
  },
  {
   "cell_type": "code",
   "execution_count": 99,
   "metadata": {},
   "outputs": [
    {
     "data": {
      "text/plain": [
       "572.5473975026382"
      ]
     },
     "execution_count": 99,
     "metadata": {},
     "output_type": "execute_result"
    }
   ],
   "source": [
    "reduce(lambda a, i: a + i, trials, 0)"
   ]
  },
  {
   "cell_type": "code",
   "execution_count": 100,
   "metadata": {},
   "outputs": [
    {
     "data": {
      "text/plain": [
       "2.3136901405626446e+64"
      ]
     },
     "execution_count": 100,
     "metadata": {},
     "output_type": "execute_result"
    }
   ],
   "source": [
    "reduce(lambda a, i: a * i, trials, 1)"
   ]
  },
  {
   "cell_type": "code",
   "execution_count": 101,
   "metadata": {},
   "outputs": [
    {
     "data": {
      "text/plain": [
       "'Msssspp'"
      ]
     },
     "execution_count": 101,
     "metadata": {},
     "output_type": "execute_result"
    }
   ],
   "source": [
    "concat_if_vowel = lambda acc, item: acc + item if item.lower() not in vowels else acc\n",
    "reduce(concat_if_vowel, w, '')"
   ]
  },
  {
   "cell_type": "code",
   "execution_count": 103,
   "metadata": {},
   "outputs": [
    {
     "data": {
      "text/plain": [
       "{'Beaujolais',\n",
       " 'Carboniferous',\n",
       " 'Dalhousie',\n",
       " 'Fontainebleau',\n",
       " 'Houdaille',\n",
       " 'Indoeuropean',\n",
       " 'Sequoia',\n",
       " 'adventitious',\n",
       " 'aeronautic',\n",
       " 'ambidextrous',\n",
       " 'argillaceous',\n",
       " 'argumentation',\n",
       " 'auctioneer',\n",
       " 'audiotape',\n",
       " 'augmentation',\n",
       " 'aureomycin',\n",
       " 'authoritative',\n",
       " 'autocollimate',\n",
       " 'automobile',\n",
       " 'automotive',\n",
       " 'autosuggestible',\n",
       " 'bimolecular',\n",
       " 'boardinghouse',\n",
       " 'bouillabaisse',\n",
       " 'businesswoman',\n",
       " 'cauliflower',\n",
       " 'coeducation',\n",
       " 'colatitude',\n",
       " 'communicable',\n",
       " 'communicate',\n",
       " 'consanguine',\n",
       " 'consanguineous',\n",
       " 'consequential',\n",
       " 'consultative',\n",
       " 'counterrevolutionary',\n",
       " 'countervail',\n",
       " 'denudation',\n",
       " 'deputation',\n",
       " 'dialogue',\n",
       " 'diatomaceous',\n",
       " 'documentation',\n",
       " 'efficacious',\n",
       " 'equatorial',\n",
       " 'equinoctial',\n",
       " 'equitation',\n",
       " 'equivocal',\n",
       " 'equivocate',\n",
       " 'eukaryotic',\n",
       " 'euphorbia',\n",
       " 'euphoria',\n",
       " 'eutrophication',\n",
       " 'evolutionary',\n",
       " 'exclusionary',\n",
       " 'excommunicate',\n",
       " 'exhaustion',\n",
       " 'exhumation',\n",
       " 'exultation',\n",
       " 'facetious',\n",
       " 'filamentous',\n",
       " 'fluoridate',\n",
       " 'fountainhead',\n",
       " 'gelatinous',\n",
       " 'grandiloquent',\n",
       " 'gregarious',\n",
       " 'gubernatorial',\n",
       " 'hallucinogen',\n",
       " 'hallucinogenic',\n",
       " 'hexafluoride',\n",
       " 'importunate',\n",
       " 'incommensurable',\n",
       " 'incommensurate',\n",
       " 'incommunicable',\n",
       " 'incommutable',\n",
       " 'incomputable',\n",
       " 'inconsequential',\n",
       " 'inoculate',\n",
       " 'instantaneous',\n",
       " 'instrumentation',\n",
       " 'insubordinate',\n",
       " 'insupportable',\n",
       " 'insurmountable',\n",
       " 'liquefaction',\n",
       " 'loudspeaking',\n",
       " 'malnourished',\n",
       " 'mendacious',\n",
       " 'mensuration',\n",
       " 'metalliferous',\n",
       " 'miscellaneous',\n",
       " 'mountaineer',\n",
       " 'mountainside',\n",
       " 'nefarious',\n",
       " 'neuroanatomic',\n",
       " 'neuropsychiatric',\n",
       " 'oneupmanship',\n",
       " 'ostentatious',\n",
       " 'pandemonium',\n",
       " 'permutation',\n",
       " 'perspicacious',\n",
       " 'persuasion',\n",
       " 'pertinacious',\n",
       " 'pneumonia',\n",
       " 'portraiture',\n",
       " 'praseodymium',\n",
       " 'precarious',\n",
       " 'predacious',\n",
       " 'psychotherapeutic',\n",
       " 'putrefaction',\n",
       " 'questionnaire',\n",
       " 'refutation',\n",
       " 'reputation',\n",
       " 'revolutionary',\n",
       " 'sacrilegious',\n",
       " 'sanguineous',\n",
       " 'sequestration',\n",
       " 'simultaneous',\n",
       " 'sulfonamide',\n",
       " 'tambourine',\n",
       " 'telecommunicate',\n",
       " 'tenacious',\n",
       " 'tetrafluoride',\n",
       " 'unidimensional',\n",
       " 'unidirectional',\n",
       " 'veracious',\n",
       " 'vexatious'}"
      ]
     },
     "execution_count": 103,
     "metadata": {},
     "output_type": "execute_result"
    }
   ],
   "source": [
    "reduce(lambda a, i: a.intersection(i), vowel_sets, set(words))"
   ]
  },
  {
   "cell_type": "markdown",
   "metadata": {},
   "source": [
    "## `functools.reduce`\n",
    "\n",
    "* With `init`: `reduce(func, seq, init)`\n",
    "* Use first item as `init`: `reduce(func, seq)`"
   ]
  },
  {
   "cell_type": "markdown",
   "metadata": {
    "slideshow": {
     "slide_type": "slide"
    }
   },
   "source": [
    "<font color=\"red\"><h2> Exercise 1 </h2></font>\n",
    "\n",
    "Use `functools.reduce` to\n",
    "\n",
    "1. Compute the maximum of trials.\n",
    "2. Concatentate all vowels\n",
    "3. Count all the `word`s that contain the substring `ei`."
   ]
  }
 ],
 "metadata": {
  "celltoolbar": "Slideshow",
  "kernelspec": {
   "display_name": "Python 3",
   "language": "python",
   "name": "python3"
  },
  "language_info": {
   "codemirror_mode": {
    "name": "ipython",
    "version": 3
   },
   "file_extension": ".py",
   "mimetype": "text/x-python",
   "name": "python",
   "nbconvert_exporter": "python",
   "pygments_lexer": "ipython3",
   "version": "3.7.2"
  },
  "varInspector": {
   "cols": {
    "lenName": 16,
    "lenType": 16,
    "lenVar": 40
   },
   "kernels_config": {
    "python": {
     "delete_cmd_postfix": "",
     "delete_cmd_prefix": "del ",
     "library": "var_list.py",
     "varRefreshCmd": "print(var_dic_list())"
    },
    "r": {
     "delete_cmd_postfix": ") ",
     "delete_cmd_prefix": "rm(",
     "library": "var_list.r",
     "varRefreshCmd": "cat(var_dic_list()) "
    }
   },
   "types_to_exclude": [
    "module",
    "function",
    "builtin_function_or_method",
    "instance",
    "_Feature"
   ],
   "window_display": false
  }
 },
 "nbformat": 4,
 "nbformat_minor": 2
}
