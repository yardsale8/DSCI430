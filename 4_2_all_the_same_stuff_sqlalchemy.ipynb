{
 "cells": [
  {
   "cell_type": "markdown",
   "metadata": {
    "slideshow": {
     "slide_type": "slide"
    }
   },
   "source": [
    "# It all the same!\n",
    "\n",
    "When releasing the `dplyr` library, Wickham proclaimed the functions in the library to be the *Grammar of data manipulation*.  While I might quibble with this claim, he makes a strong point: **The verbs presented in `dplyr` provide a platform-independent language for manipulating tables.**\n",
    "\n",
    "In this lecture, we will illustrate this point by constructing wrapper functions for `sqlalchemy` that provide the same interface and functionality as the corresponding `dplyr` function."
   ]
  },
  {
   "cell_type": "code",
   "execution_count": 1,
   "metadata": {
    "slideshow": {
     "slide_type": "fragment"
    }
   },
   "outputs": [],
   "source": [
    "import pandas as pd"
   ]
  },
  {
   "cell_type": "markdown",
   "metadata": {
    "slideshow": {
     "slide_type": "slide"
    }
   },
   "source": [
    "## Set up\n",
    "\n",
    "Let's read in a data set in `sqlalchemy`"
   ]
  },
  {
   "cell_type": "code",
   "execution_count": 2,
   "metadata": {
    "slideshow": {
     "slide_type": "fragment"
    }
   },
   "outputs": [],
   "source": [
    "from sqlalchemy.orm import sessionmaker\n",
    "from sqlalchemy import create_engine, func\n",
    "from sqlalchemy.ext.automap import automap_base\n",
    "\n",
    "engine = create_engine(\"sqlite:///databases/heroes_2_1.db\")\n",
    "\n",
    "Base = automap_base()\n",
    "Base.prepare(engine, reflect=True)\n",
    "Hero = Base.classes.heroes"
   ]
  },
  {
   "cell_type": "markdown",
   "metadata": {
    "slideshow": {
     "slide_type": "slide"
    }
   },
   "source": [
    "# `select` and `filter_by` functions for `sqlalchemy`\n",
    "\n",
    "* For `pandas` and `pyspark`: `df >> func` returns a new `df`\n",
    "* For `sqlalchemy`, we manipulate select statement, not `df`\n",
    "* **Consequence:** `stmt >> func` returns a new `SQL stmt`"
   ]
  },
  {
   "cell_type": "markdown",
   "metadata": {
    "slideshow": {
     "slide_type": "slide"
    }
   },
   "source": [
    "## Starting the `pipe`\n",
    "\n",
    "Since we are to be transforming `stmt`s into `stmt`s, we need \n",
    "* a starting function to turn a table class into a starting statement.\n",
    "* A `head` function to test our statements\n",
    "* A function to pretty print the current stmt, then pipe it along\n",
    "* A function to produce `pandas` tables of the output"
   ]
  },
  {
   "cell_type": "markdown",
   "metadata": {
    "slideshow": {
     "slide_type": "slide"
    }
   },
   "source": [
    "#### Switching a table class `to_statement`"
   ]
  },
  {
   "cell_type": "code",
   "execution_count": 3,
   "metadata": {
    "slideshow": {
     "slide_type": "fragment"
    }
   },
   "outputs": [],
   "source": [
    "from sqlalchemy import select as select_sql\n",
    "from functoolz import pipeable\n",
    "from more_sqlalchemy import everything\n",
    "\n",
    "@pipeable\n",
    "def to_statement(table_class):\n",
    "    return select_sql(everything(table_class))"
   ]
  },
  {
   "cell_type": "markdown",
   "metadata": {
    "slideshow": {
     "slide_type": "slide"
    }
   },
   "source": [
    "#### Using `stmt.limit` to create a `headq` helper\n",
    "\n",
    "**Note:** To avoid name conflicts, we will name all `sqlalchemy` helpers by appending a `q`"
   ]
  },
  {
   "cell_type": "code",
   "execution_count": 4,
   "metadata": {
    "slideshow": {
     "slide_type": "fragment"
    }
   },
   "outputs": [],
   "source": [
    "@pipeable\n",
    "def headq(stmt, num = 5):\n",
    "    return stmt.limit(num)"
   ]
  },
  {
   "cell_type": "markdown",
   "metadata": {
    "slideshow": {
     "slide_type": "slide"
    }
   },
   "source": [
    "#### Embedding a `pprint` in the pipe"
   ]
  },
  {
   "cell_type": "code",
   "execution_count": 5,
   "metadata": {
    "slideshow": {
     "slide_type": "fragment"
    }
   },
   "outputs": [],
   "source": [
    "from more_sqlalchemy import pprint\n",
    "\n",
    "@pipeable\n",
    "def pprintq(stmt):\n",
    "    pprint(stmt)\n",
    "    return stmt"
   ]
  },
  {
   "cell_type": "markdown",
   "metadata": {
    "slideshow": {
     "slide_type": "slide"
    }
   },
   "source": [
    "#### Using `pd.read_sql_query` to create a `to_pandasq` helper\n",
    "\n",
    "**Note:** `pd.read_sql_query` requires `con=engine`.  We will make this an explicit first parameter"
   ]
  },
  {
   "cell_type": "code",
   "execution_count": 6,
   "metadata": {
    "slideshow": {
     "slide_type": "fragment"
    }
   },
   "outputs": [],
   "source": [
    "@pipeable\n",
    "def to_pandasq(engine, stmt):\n",
    "    return pd.read_sql_query(stmt, con = engine)"
   ]
  },
  {
   "cell_type": "markdown",
   "metadata": {
    "slideshow": {
     "slide_type": "slide"
    }
   },
   "source": [
    "## Testing our helper functions"
   ]
  },
  {
   "cell_type": "code",
   "execution_count": 7,
   "metadata": {
    "slideshow": {
     "slide_type": "fragment"
    }
   },
   "outputs": [
    {
     "data": {
      "text/html": [
       "<div>\n",
       "<style scoped>\n",
       "    .dataframe tbody tr th:only-of-type {\n",
       "        vertical-align: middle;\n",
       "    }\n",
       "\n",
       "    .dataframe tbody tr th {\n",
       "        vertical-align: top;\n",
       "    }\n",
       "\n",
       "    .dataframe thead th {\n",
       "        text-align: right;\n",
       "    }\n",
       "</style>\n",
       "<table border=\"1\" class=\"dataframe\">\n",
       "  <thead>\n",
       "    <tr style=\"text-align: right;\">\n",
       "      <th></th>\n",
       "      <th>id</th>\n",
       "      <th>name</th>\n",
       "      <th>gender</th>\n",
       "      <th>eye_color</th>\n",
       "      <th>race</th>\n",
       "      <th>hair_color</th>\n",
       "      <th>height</th>\n",
       "      <th>publisher</th>\n",
       "      <th>skin_color</th>\n",
       "      <th>alignment</th>\n",
       "      <th>weight</th>\n",
       "    </tr>\n",
       "  </thead>\n",
       "  <tbody>\n",
       "    <tr>\n",
       "      <th>0</th>\n",
       "      <td>0</td>\n",
       "      <td>A-Bomb</td>\n",
       "      <td>Male</td>\n",
       "      <td>yellow</td>\n",
       "      <td>Human</td>\n",
       "      <td>No Hair</td>\n",
       "      <td>203.0</td>\n",
       "      <td>Marvel Comics</td>\n",
       "      <td>None</td>\n",
       "      <td>good</td>\n",
       "      <td>441.0</td>\n",
       "    </tr>\n",
       "    <tr>\n",
       "      <th>1</th>\n",
       "      <td>1</td>\n",
       "      <td>Abe Sapien</td>\n",
       "      <td>Male</td>\n",
       "      <td>blue</td>\n",
       "      <td>Icthyo Sapien</td>\n",
       "      <td>No Hair</td>\n",
       "      <td>191.0</td>\n",
       "      <td>Dark Horse Comics</td>\n",
       "      <td>blue</td>\n",
       "      <td>good</td>\n",
       "      <td>65.0</td>\n",
       "    </tr>\n",
       "    <tr>\n",
       "      <th>2</th>\n",
       "      <td>2</td>\n",
       "      <td>Abin Sur</td>\n",
       "      <td>Male</td>\n",
       "      <td>blue</td>\n",
       "      <td>Ungaran</td>\n",
       "      <td>No Hair</td>\n",
       "      <td>185.0</td>\n",
       "      <td>DC Comics</td>\n",
       "      <td>red</td>\n",
       "      <td>good</td>\n",
       "      <td>90.0</td>\n",
       "    </tr>\n",
       "    <tr>\n",
       "      <th>3</th>\n",
       "      <td>3</td>\n",
       "      <td>Abomination</td>\n",
       "      <td>Male</td>\n",
       "      <td>green</td>\n",
       "      <td>Human / Radiation</td>\n",
       "      <td>No Hair</td>\n",
       "      <td>203.0</td>\n",
       "      <td>Marvel Comics</td>\n",
       "      <td>None</td>\n",
       "      <td>bad</td>\n",
       "      <td>441.0</td>\n",
       "    </tr>\n",
       "    <tr>\n",
       "      <th>4</th>\n",
       "      <td>4</td>\n",
       "      <td>Abraxas</td>\n",
       "      <td>Male</td>\n",
       "      <td>blue</td>\n",
       "      <td>Cosmic Entity</td>\n",
       "      <td>Black</td>\n",
       "      <td>NaN</td>\n",
       "      <td>Marvel Comics</td>\n",
       "      <td>None</td>\n",
       "      <td>bad</td>\n",
       "      <td>NaN</td>\n",
       "    </tr>\n",
       "  </tbody>\n",
       "</table>\n",
       "</div>"
      ],
      "text/plain": [
       "   id         name gender eye_color               race hair_color  height  \\\n",
       "0   0       A-Bomb   Male    yellow              Human    No Hair   203.0   \n",
       "1   1   Abe Sapien   Male      blue      Icthyo Sapien    No Hair   191.0   \n",
       "2   2     Abin Sur   Male      blue            Ungaran    No Hair   185.0   \n",
       "3   3  Abomination   Male     green  Human / Radiation    No Hair   203.0   \n",
       "4   4      Abraxas   Male      blue      Cosmic Entity      Black     NaN   \n",
       "\n",
       "           publisher skin_color alignment  weight  \n",
       "0      Marvel Comics       None      good   441.0  \n",
       "1  Dark Horse Comics       blue      good    65.0  \n",
       "2          DC Comics        red      good    90.0  \n",
       "3      Marvel Comics       None       bad   441.0  \n",
       "4      Marvel Comics       None       bad     NaN  "
      ]
     },
     "execution_count": 7,
     "metadata": {},
     "output_type": "execute_result"
    }
   ],
   "source": [
    "(Hero\n",
    " >> to_statement\n",
    " >> headq\n",
    " >> to_pandasq(engine))"
   ]
  },
  {
   "cell_type": "markdown",
   "metadata": {
    "slideshow": {
     "slide_type": "slide"
    }
   },
   "source": [
    "## Using `pprintq` to view the intermediate statements"
   ]
  },
  {
   "cell_type": "code",
   "execution_count": 8,
   "metadata": {
    "slideshow": {
     "slide_type": "fragment"
    }
   },
   "outputs": [
    {
     "name": "stdout",
     "output_type": "stream",
     "text": [
      "SELECT heroes.id,\n",
      "       heroes.name,\n",
      "       heroes.gender,\n",
      "       heroes.eye_color,\n",
      "       heroes.race,\n",
      "       heroes.hair_color,\n",
      "       heroes.height,\n",
      "       heroes.publisher,\n",
      "       heroes.skin_color,\n",
      "       heroes.alignment,\n",
      "       heroes.weight\n",
      "FROM heroes\n"
     ]
    }
   ],
   "source": [
    "_ = (Hero\n",
    "     >> to_statement\n",
    "     >> pprintq\n",
    "     >> headq\n",
    "     >> to_pandasq(engine))"
   ]
  },
  {
   "cell_type": "code",
   "execution_count": 9,
   "metadata": {
    "slideshow": {
     "slide_type": "slide"
    }
   },
   "outputs": [
    {
     "name": "stdout",
     "output_type": "stream",
     "text": [
      "SELECT heroes.id,\n",
      "       heroes.name,\n",
      "       heroes.gender,\n",
      "       heroes.eye_color,\n",
      "       heroes.race,\n",
      "       heroes.hair_color,\n",
      "       heroes.height,\n",
      "       heroes.publisher,\n",
      "       heroes.skin_color,\n",
      "       heroes.alignment,\n",
      "       heroes.weight\n",
      "FROM heroes\n",
      "LIMIT :param_1\n"
     ]
    }
   ],
   "source": [
    "_ = (Hero\n",
    "     >> to_statement\n",
    "     >> headq\n",
    "     >> pprintq\n",
    "     >> to_pandasq(engine))"
   ]
  },
  {
   "cell_type": "markdown",
   "metadata": {
    "slideshow": {
     "slide_type": "slide"
    }
   },
   "source": [
    "## Example 3 - Creating `selectq` for `sqlalchemy`\n",
    "\n",
    "Now we will create a pipeable wrapper function.  To make this work, we will use `stmt.with_only_columns`, let's explore this method using help. To simplify the presentation, we will assume `columns` is a list of column name strings"
   ]
  },
  {
   "cell_type": "code",
   "execution_count": 10,
   "metadata": {
    "scrolled": true,
    "slideshow": {
     "slide_type": "fragment"
    }
   },
   "outputs": [
    {
     "name": "stdout",
     "output_type": "stream",
     "text": [
      "Help on method with_only_columns in module sqlalchemy.sql.selectable:\n",
      "\n",
      "with_only_columns(columns) method of sqlalchemy.sql.selectable.Select instance\n",
      "    Return a new :func:`.select` construct with its columns\n",
      "    clause replaced with the given columns.\n",
      "    \n",
      "    This method is exactly equivalent to as if the original\n",
      "    :func:`.select` had been called with the given columns\n",
      "    clause.   I.e. a statement::\n",
      "    \n",
      "        s = select([table1.c.a, table1.c.b])\n",
      "        s = s.with_only_columns([table1.c.b])\n",
      "    \n",
      "    should be exactly equivalent to::\n",
      "    \n",
      "        s = select([table1.c.b])\n",
      "    \n",
      "    This means that FROM clauses which are only derived\n",
      "    from the column list will be discarded if the new column\n",
      "    list no longer contains that FROM::\n",
      "    \n",
      "        >>> table1 = table('t1', column('a'), column('b'))\n",
      "        >>> table2 = table('t2', column('a'), column('b'))\n",
      "        >>> s1 = select([table1.c.a, table2.c.b])\n",
      "        >>> print s1\n",
      "        SELECT t1.a, t2.b FROM t1, t2\n",
      "        >>> s2 = s1.with_only_columns([table2.c.b])\n",
      "        >>> print s2\n",
      "        SELECT t2.b FROM t1\n",
      "    \n",
      "    The preferred way to maintain a specific FROM clause\n",
      "    in the construct, assuming it won't be represented anywhere\n",
      "    else (i.e. not in the WHERE clause, etc.) is to set it using\n",
      "    :meth:`.Select.select_from`::\n",
      "    \n",
      "        >>> s1 = select([table1.c.a, table2.c.b]).\\\n",
      "        ...         select_from(table1.join(table2,\n",
      "        ...                 table1.c.a==table2.c.a))\n",
      "        >>> s2 = s1.with_only_columns([table2.c.b])\n",
      "        >>> print s2\n",
      "        SELECT t2.b FROM t1 JOIN t2 ON t1.a=t2.a\n",
      "    \n",
      "    Care should also be taken to use the correct\n",
      "    set of column objects passed to :meth:`.Select.with_only_columns`.\n",
      "    Since the method is essentially equivalent to calling the\n",
      "    :func:`.select` construct in the first place with the given\n",
      "    columns, the columns passed to :meth:`.Select.with_only_columns`\n",
      "    should usually be a subset of those which were passed\n",
      "    to the :func:`.select` construct, not those which are available\n",
      "    from the ``.c`` collection of that :func:`.select`.  That\n",
      "    is::\n",
      "    \n",
      "        s = select([table1.c.a, table1.c.b]).select_from(table1)\n",
      "        s = s.with_only_columns([table1.c.b])\n",
      "    \n",
      "    and **not**::\n",
      "    \n",
      "        # usually incorrect\n",
      "        s = s.with_only_columns([s.c.b])\n",
      "    \n",
      "    The latter would produce the SQL::\n",
      "    \n",
      "        SELECT b\n",
      "        FROM (SELECT t1.a AS a, t1.b AS b\n",
      "        FROM t1), t1\n",
      "    \n",
      "    Since the :func:`.select` construct is essentially being\n",
      "    asked to select both from ``table1`` as well as itself.\n",
      "\n"
     ]
    }
   ],
   "source": [
    "s = (Hero >> to_statement)\n",
    "help(s.with_only_columns)"
   ]
  },
  {
   "cell_type": "markdown",
   "metadata": {
    "slideshow": {
     "slide_type": "slide"
    }
   },
   "source": [
    "## Accessing columns from a statement\n",
    "\n",
    "* `selectq` will filter columns\n",
    "* We need to\n",
    "    * Iterate over **all current columns**\n",
    "    * Filter the result **based on the column name**"
   ]
  },
  {
   "cell_type": "markdown",
   "metadata": {
    "slideshow": {
     "slide_type": "slide"
    }
   },
   "source": [
    "#### Accessing all columns using `stmt.columns`"
   ]
  },
  {
   "cell_type": "code",
   "execution_count": 11,
   "metadata": {
    "scrolled": true,
    "slideshow": {
     "slide_type": "fragment"
    }
   },
   "outputs": [
    {
     "data": {
      "text/plain": [
       "[Column('id', INTEGER(), table=<Select object>, primary_key=True, nullable=False),\n",
       " Column('name', VARCHAR(), table=<Select object>),\n",
       " Column('gender', VARCHAR(), table=<Select object>),\n",
       " Column('eye_color', VARCHAR(), table=<Select object>),\n",
       " Column('race', VARCHAR(), table=<Select object>),\n",
       " Column('hair_color', VARCHAR(), table=<Select object>),\n",
       " Column('height', FLOAT(), table=<Select object>),\n",
       " Column('publisher', VARCHAR(), table=<Select object>),\n",
       " Column('skin_color', VARCHAR(), table=<Select object>),\n",
       " Column('alignment', VARCHAR(), table=<Select object>),\n",
       " Column('weight', FLOAT(), table=<Select object>)]"
      ]
     },
     "execution_count": 11,
     "metadata": {},
     "output_type": "execute_result"
    }
   ],
   "source": [
    "[c for c in s.columns]"
   ]
  },
  {
   "cell_type": "markdown",
   "metadata": {
    "slideshow": {
     "slide_type": "slide"
    }
   },
   "source": [
    "#### Accessing column names using `col.name`"
   ]
  },
  {
   "cell_type": "code",
   "execution_count": 12,
   "metadata": {
    "scrolled": true,
    "slideshow": {
     "slide_type": "fragment"
    }
   },
   "outputs": [
    {
     "data": {
      "text/plain": [
       "['id',\n",
       " 'name',\n",
       " 'gender',\n",
       " 'eye_color',\n",
       " 'race',\n",
       " 'hair_color',\n",
       " 'height',\n",
       " 'publisher',\n",
       " 'skin_color',\n",
       " 'alignment',\n",
       " 'weight']"
      ]
     },
     "execution_count": 12,
     "metadata": {},
     "output_type": "execute_result"
    }
   ],
   "source": [
    "[c.name for c in s.columns]"
   ]
  },
  {
   "cell_type": "markdown",
   "metadata": {
    "slideshow": {
     "slide_type": "slide"
    }
   },
   "source": [
    "#### Filtering columns using a list comprehension"
   ]
  },
  {
   "cell_type": "code",
   "execution_count": 13,
   "metadata": {
    "slideshow": {
     "slide_type": "fragment"
    }
   },
   "outputs": [
    {
     "data": {
      "text/plain": [
       "[Column('name', VARCHAR(), table=<Select object>),\n",
       " Column('gender', VARCHAR(), table=<Select object>),\n",
       " Column('eye_color', VARCHAR(), table=<Select object>)]"
      ]
     },
     "execution_count": 13,
     "metadata": {},
     "output_type": "execute_result"
    }
   ],
   "source": [
    "cols_to_keep = ['name', 'gender', 'eye_color']\n",
    "[c for c in s.columns if c.name in cols_to_keep]"
   ]
  },
  {
   "cell_type": "markdown",
   "metadata": {
    "slideshow": {
     "slide_type": "slide"
    }
   },
   "source": [
    "#### Creating a new statement using `with_only_columns`"
   ]
  },
  {
   "cell_type": "code",
   "execution_count": 14,
   "metadata": {
    "slideshow": {
     "slide_type": "fragment"
    }
   },
   "outputs": [
    {
     "name": "stdout",
     "output_type": "stream",
     "text": [
      "SELECT name,\n",
      "       gender,\n",
      "       eye_color\n",
      "FROM\n",
      "  (SELECT heroes.id AS id,\n",
      "          heroes.name AS name,\n",
      "          heroes.gender AS gender,\n",
      "          heroes.eye_color AS eye_color,\n",
      "          heroes.race AS race,\n",
      "          heroes.hair_color AS hair_color,\n",
      "          heroes.height AS height,\n",
      "          heroes.publisher AS publisher,\n",
      "          heroes.skin_color AS skin_color,\n",
      "          heroes.alignment AS alignment,\n",
      "          heroes.weight AS weight\n",
      "   FROM heroes)\n"
     ]
    }
   ],
   "source": [
    "cols_to_keep = ['name', 'gender', 'eye_color']\n",
    "s_new = s.with_only_columns([c for c in s.columns if c.name in cols_to_keep])\n",
    "pprint(s_new)"
   ]
  },
  {
   "cell_type": "markdown",
   "metadata": {
    "slideshow": {
     "slide_type": "slide"
    }
   },
   "source": [
    "## Creating the `selectq` helper\n"
   ]
  },
  {
   "cell_type": "code",
   "execution_count": 15,
   "metadata": {
    "slideshow": {
     "slide_type": "fragment"
    }
   },
   "outputs": [],
   "source": [
    "@pipeable\n",
    "def selectq(columns, stmt):\n",
    "    cols_to_keep = [c for c in stmt.columns if c.name in columns]\n",
    "    return stmt.with_only_columns(cols_to_keep)\n",
    "    "
   ]
  },
  {
   "cell_type": "markdown",
   "metadata": {
    "slideshow": {
     "slide_type": "slide"
    }
   },
   "source": [
    "#### Testing `selectq`"
   ]
  },
  {
   "cell_type": "code",
   "execution_count": 16,
   "metadata": {
    "slideshow": {
     "slide_type": "fragment"
    }
   },
   "outputs": [
    {
     "data": {
      "text/html": [
       "<div>\n",
       "<style scoped>\n",
       "    .dataframe tbody tr th:only-of-type {\n",
       "        vertical-align: middle;\n",
       "    }\n",
       "\n",
       "    .dataframe tbody tr th {\n",
       "        vertical-align: top;\n",
       "    }\n",
       "\n",
       "    .dataframe thead th {\n",
       "        text-align: right;\n",
       "    }\n",
       "</style>\n",
       "<table border=\"1\" class=\"dataframe\">\n",
       "  <thead>\n",
       "    <tr style=\"text-align: right;\">\n",
       "      <th></th>\n",
       "      <th>name</th>\n",
       "      <th>gender</th>\n",
       "      <th>eye_color</th>\n",
       "    </tr>\n",
       "  </thead>\n",
       "  <tbody>\n",
       "    <tr>\n",
       "      <th>0</th>\n",
       "      <td>A-Bomb</td>\n",
       "      <td>Male</td>\n",
       "      <td>yellow</td>\n",
       "    </tr>\n",
       "    <tr>\n",
       "      <th>1</th>\n",
       "      <td>Abe Sapien</td>\n",
       "      <td>Male</td>\n",
       "      <td>blue</td>\n",
       "    </tr>\n",
       "    <tr>\n",
       "      <th>2</th>\n",
       "      <td>Abin Sur</td>\n",
       "      <td>Male</td>\n",
       "      <td>blue</td>\n",
       "    </tr>\n",
       "    <tr>\n",
       "      <th>3</th>\n",
       "      <td>Abomination</td>\n",
       "      <td>Male</td>\n",
       "      <td>green</td>\n",
       "    </tr>\n",
       "    <tr>\n",
       "      <th>4</th>\n",
       "      <td>Abraxas</td>\n",
       "      <td>Male</td>\n",
       "      <td>blue</td>\n",
       "    </tr>\n",
       "  </tbody>\n",
       "</table>\n",
       "</div>"
      ],
      "text/plain": [
       "          name gender eye_color\n",
       "0       A-Bomb   Male    yellow\n",
       "1   Abe Sapien   Male      blue\n",
       "2     Abin Sur   Male      blue\n",
       "3  Abomination   Male     green\n",
       "4      Abraxas   Male      blue"
      ]
     },
     "execution_count": 16,
     "metadata": {},
     "output_type": "execute_result"
    }
   ],
   "source": [
    "(Hero\n",
    " >> to_statement\n",
    " >> selectq(['name', 'gender', 'eye_color'])\n",
    " >> headq\n",
    " >> to_pandasq(engine))"
   ]
  },
  {
   "cell_type": "markdown",
   "metadata": {
    "slideshow": {
     "slide_type": "slide"
    }
   },
   "source": [
    "#### Inspecting `selectq` statements"
   ]
  },
  {
   "cell_type": "code",
   "execution_count": 17,
   "metadata": {
    "scrolled": true,
    "slideshow": {
     "slide_type": "fragment"
    }
   },
   "outputs": [
    {
     "name": "stdout",
     "output_type": "stream",
     "text": [
      "SELECT name,\n",
      "       gender,\n",
      "       eye_color\n",
      "FROM\n",
      "  (SELECT heroes.id AS id,\n",
      "          heroes.name AS name,\n",
      "          heroes.gender AS gender,\n",
      "          heroes.eye_color AS eye_color,\n",
      "          heroes.race AS race,\n",
      "          heroes.hair_color AS hair_color,\n",
      "          heroes.height AS height,\n",
      "          heroes.publisher AS publisher,\n",
      "          heroes.skin_color AS skin_color,\n",
      "          heroes.alignment AS alignment,\n",
      "          heroes.weight AS weight\n",
      "   FROM heroes)\n"
     ]
    },
    {
     "data": {
      "text/html": [
       "<div>\n",
       "<style scoped>\n",
       "    .dataframe tbody tr th:only-of-type {\n",
       "        vertical-align: middle;\n",
       "    }\n",
       "\n",
       "    .dataframe tbody tr th {\n",
       "        vertical-align: top;\n",
       "    }\n",
       "\n",
       "    .dataframe thead th {\n",
       "        text-align: right;\n",
       "    }\n",
       "</style>\n",
       "<table border=\"1\" class=\"dataframe\">\n",
       "  <thead>\n",
       "    <tr style=\"text-align: right;\">\n",
       "      <th></th>\n",
       "      <th>name</th>\n",
       "      <th>gender</th>\n",
       "      <th>eye_color</th>\n",
       "    </tr>\n",
       "  </thead>\n",
       "  <tbody>\n",
       "    <tr>\n",
       "      <th>0</th>\n",
       "      <td>A-Bomb</td>\n",
       "      <td>Male</td>\n",
       "      <td>yellow</td>\n",
       "    </tr>\n",
       "    <tr>\n",
       "      <th>1</th>\n",
       "      <td>Abe Sapien</td>\n",
       "      <td>Male</td>\n",
       "      <td>blue</td>\n",
       "    </tr>\n",
       "    <tr>\n",
       "      <th>2</th>\n",
       "      <td>Abin Sur</td>\n",
       "      <td>Male</td>\n",
       "      <td>blue</td>\n",
       "    </tr>\n",
       "    <tr>\n",
       "      <th>3</th>\n",
       "      <td>Abomination</td>\n",
       "      <td>Male</td>\n",
       "      <td>green</td>\n",
       "    </tr>\n",
       "    <tr>\n",
       "      <th>4</th>\n",
       "      <td>Abraxas</td>\n",
       "      <td>Male</td>\n",
       "      <td>blue</td>\n",
       "    </tr>\n",
       "  </tbody>\n",
       "</table>\n",
       "</div>"
      ],
      "text/plain": [
       "          name gender eye_color\n",
       "0       A-Bomb   Male    yellow\n",
       "1   Abe Sapien   Male      blue\n",
       "2     Abin Sur   Male      blue\n",
       "3  Abomination   Male     green\n",
       "4      Abraxas   Male      blue"
      ]
     },
     "execution_count": 17,
     "metadata": {},
     "output_type": "execute_result"
    }
   ],
   "source": [
    "(Hero\n",
    " >> to_statement\n",
    " >> selectq(['name', 'gender', 'eye_color'])\n",
    " >> pprintq\n",
    " >> headq\n",
    " >> to_pandasq(engine))"
   ]
  },
  {
   "cell_type": "markdown",
   "metadata": {
    "slideshow": {
     "slide_type": "slide"
    }
   },
   "source": [
    "## <font color=\"red\" > Exercise 2 - Construct `filter_byq` </font>\n",
    "\n",
    "* This should be a wrapper around `stmt.where`\n",
    "    * Explore using help.  How many additional arguments?  What are they?\n",
    "* Must be `pipeable` with `stmt` in the last position.\n",
    "* Include test(s) of your function."
   ]
  },
  {
   "cell_type": "code",
   "execution_count": 39,
   "metadata": {
    "slideshow": {
     "slide_type": "fragment"
    }
   },
   "outputs": [],
   "source": [
    "# Your function definition here"
   ]
  },
  {
   "cell_type": "code",
   "execution_count": 40,
   "metadata": {
    "slideshow": {
     "slide_type": "fragment"
    }
   },
   "outputs": [],
   "source": [
    "# Your test expression here"
   ]
  },
  {
   "cell_type": "markdown",
   "metadata": {
    "slideshow": {
     "slide_type": "slide"
    }
   },
   "source": [
    "## Up Next\n",
    "\n",
    "Stuff"
   ]
  }
 ],
 "metadata": {
  "celltoolbar": "Slideshow",
  "kernelspec": {
   "display_name": "Python 3",
   "language": "python",
   "name": "python3"
  },
  "language_info": {
   "codemirror_mode": {
    "name": "ipython",
    "version": 3
   },
   "file_extension": ".py",
   "mimetype": "text/x-python",
   "name": "python",
   "nbconvert_exporter": "python",
   "pygments_lexer": "ipython3",
   "version": "3.7.2"
  },
  "varInspector": {
   "cols": {
    "lenName": 16,
    "lenType": 16,
    "lenVar": 40
   },
   "kernels_config": {
    "python": {
     "delete_cmd_postfix": "",
     "delete_cmd_prefix": "del ",
     "library": "var_list.py",
     "varRefreshCmd": "print(var_dic_list())"
    },
    "r": {
     "delete_cmd_postfix": ") ",
     "delete_cmd_prefix": "rm(",
     "library": "var_list.r",
     "varRefreshCmd": "cat(var_dic_list()) "
    }
   },
   "types_to_exclude": [
    "module",
    "function",
    "builtin_function_or_method",
    "instance",
    "_Feature"
   ],
   "window_display": false
  }
 },
 "nbformat": 4,
 "nbformat_minor": 2
}
